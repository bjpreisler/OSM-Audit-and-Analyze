{
 "cells": [
  {
   "cell_type": "markdown",
   "metadata": {},
   "source": [
    "## Denver Open Street Map Munging  \n",
    "### Map Area\n",
    "\n",
    "Denver, CO, United States  \n",
    "* http://www.openstreetmap.org/relation/253750 \n",
    "\n",
    "I currently live and work in Denver but am new to the area so I thought I'd explore the OSM  \n",
    "data and see what it contains\n",
    "\n",
    "### Problems found in data set\n",
    "I first downloaded a much smaller sample set of Denver to start invesigating any problems. Below is what  \n",
    "I found and how I addressed the issues:\n"
   ]
  },
  {
   "cell_type": "markdown",
   "metadata": {},
   "source": [
    "Most of the user entered data simply had inconsistent abbreviations which I decided to clean up:\n",
    "\n",
    "*  Ave changed to Avenue\n",
    "*  Dr changed to Drive\n",
    "*  Pky to Parkway\n",
    "*  ct to Court, as well as Ct to Court\n",
    "*  Rd and Rd. as well as Ave., these small changes were more difficult to catch\n",
    "\n",
    "I kept some the entered data the same like North State Highway 83 and Park Avenue West even though they at first appeared to need cleaning.  The vast majority of problems were fixed by auditing the data and then changing them to the updated names mapping that I continue updating as I saw more and more of my data set.\n",
    "\n",
    "The sample that I used, being so small, didn't fully prepare me for the errors that existed in the truly OSM file.  After loading that and beginning to clean it, I had to circle back and look at additional problems created like the abbreviations with a '.' at the end."
   ]
  },
  {
   "cell_type": "markdown",
   "metadata": {
    "collapsed": true
   },
   "source": [
    "### Overview of the data\n",
    "\n",
    "#### Size of the file:     "
   ]
  },
  {
   "cell_type": "raw",
   "metadata": {},
   "source": [
    "denver-boulder_colorado.osm.....850mb  \n",
    "sample.osm....4mb  \n",
    "nodes.csv...325mb  \n",
    "nodes_tags.csv...11mb  \n",
    "ways.csv...26mb  \n",
    "ways_tags.csv...108mb  \n",
    "way_nodes.csv...62mb"
   ]
  },
  {
   "cell_type": "markdown",
   "metadata": {},
   "source": [
    "#### Number of nodes:\n",
    "\n",
    "I decided to sum the number of breweries in the Denver area because CO has such a high profile for microbreweries.  It did not disappoint as it appeared 95th on the list of most mentioned node keys\n",
    "\n",
    "#### nodes:"
   ]
  },
  {
   "cell_type": "raw",
   "metadata": {},
   "source": [
    "\"\"\"select count(*) from nodes;\"\"\""
   ]
  },
  {
   "cell_type": "markdown",
   "metadata": {},
   "source": [
    "8757993 "
   ]
  },
  {
   "cell_type": "markdown",
   "metadata": {},
   "source": [
    "#### ways:"
   ]
  },
  {
   "cell_type": "raw",
   "metadata": {},
   "source": [
    "\"\"\"select count(*) from ways;\"\"\""
   ]
  },
  {
   "cell_type": "markdown",
   "metadata": {},
   "source": [
    "432284 "
   ]
  },
  {
   "cell_type": "markdown",
   "metadata": {},
   "source": [
    "#### breweries:"
   ]
  },
  {
   "cell_type": "raw",
   "metadata": {},
   "source": [
    "\"\"\"select count(nt.key) from nodes_tags as nt\n",
    "            where nt.key = 'brewery';\"\"\""
   ]
  },
  {
   "cell_type": "markdown",
   "metadata": {},
   "source": [
    "85"
   ]
  },
  {
   "cell_type": "markdown",
   "metadata": {},
   "source": [
    "#### node_keys:"
   ]
  },
  {
   "cell_type": "markdown",
   "metadata": {},
   "source": [
    "\"\"\"select nt.key, count(nt.key) from nodes_tags as nt\n",
    "            group by nt.key order by count(nt.key) desc limit 100;\"\"\""
   ]
  },
  {
   "cell_type": "markdown",
   "metadata": {},
   "source": [
    "#### List of node_keys by frequency:"
   ]
  },
  {
   "cell_type": "raw",
   "metadata": {},
   "source": [
    "[(u'natural', 50249),\n",
    " (u'highway', 46458),\n",
    " (u'source', 37580),\n",
    " (u'name', 21163),\n",
    " (u'power', 15389),\n",
    " (u'crossing', 12797),\n",
    " (u'amenity', 11326),\n",
    " (u'street', 7469),\n",
    " (u'housenumber', 7448),\n",
    " (u'postcode', 6798),\n",
    " (u'city', 5981),\n",
    " (u'ele', 5702),\n",
    " (u'feature_id', 5252),\n",
    " (u'created', 4794),\n",
    " (u'state', 4545),\n",
    " (u'shop', 3846),\n",
    " (u'barrier', 3177),\n",
    " (u'noexit', 2863),\n",
    " (u'bicycle', 2697),\n",
    " (u'county_id', 2652),\n",
    " (u'state_id', 2652),\n",
    " (u'landuse', 2586),\n",
    " (u'county_name', 2568),\n",
    " (u'local_ref', 2493),\n",
    " (u'phone', 2238),\n",
    " (u'website', 2238),\n",
    " (u'feature_type', 2143),\n",
    " (u'cuisine', 1677),\n",
    " (u'tourism', 1510),\n",
    " (u'railway', 1487),\n",
    " (u'operator', 1183),\n",
    " (u'leisure', 1182),\n",
    " (u'note', 1075),\n",
    " (u'traffic_calming', 959),\n",
    " (u'alt_name', 899),\n",
    " (u'emergency', 897),\n",
    " (u'office', 872),\n",
    " (u'opening_hours', 838),\n",
    " (u'ref', 800),\n",
    " (u'entrance', 793),\n",
    " (u'import_uuid', 785),\n",
    " (u'capacity', 735),\n",
    " (u'man_made', 670),\n",
    " (u'bicycle_parking', 624),\n",
    " (u'religion', 601),\n",
    " (u'access', 574),\n",
    " (u'unit', 559),\n",
    " (u'type', 507),\n",
    " (u'supervised', 480),\n",
    " (u'tmp', 457),\n",
    " (u'place', 450),\n",
    " (u'id', 368),\n",
    " (u'gnis:County_num', 360),\n",
    " (u'gnis:ST_alpha', 360),\n",
    " (u'gnis:ST_num', 360),\n",
    " (u'shelter', 360),\n",
    " (u'waterway', 360),\n",
    " (u'gnis:Class', 359),\n",
    " (u'gnis:County', 359),\n",
    " (u'is_in', 355),\n",
    " (u'covered', 334),\n",
    " (u'denomination', 331),\n",
    " (u'designation', 311),\n",
    " (u'direction', 311),\n",
    " (u'bench', 310),\n",
    " (u'design', 265),\n",
    " (u'aeroway', 257),\n",
    " (u'sport', 241),\n",
    " (u'building', 213),\n",
    " (u'floor', 208),\n",
    " (u'parking', 192),\n",
    " (u'information', 189),\n",
    " (u'craft', 186),\n",
    " (u'country', 175),\n",
    " (u'edited', 173),\n",
    " (u'atm', 165),\n",
    " (u'stop_id', 158),\n",
    " (u'historic', 154),\n",
    " (u'housename', 142),\n",
    " (u'brand', 133),\n",
    " (u'wheelchair', 130),\n",
    " (u'description', 123),\n",
    " (u'material', 122),\n",
    " (u'backrest', 121),\n",
    " (u'lamp_type', 113),\n",
    " (u'park_ride', 110),\n",
    " (u'fee', 102),\n",
    " (u'motor_vehicle', 100),\n",
    " (u'population', 99),\n",
    " (u'traffic_signals', 99),\n",
    " (u'internet_access', 92),\n",
    " (u'foot', 88),\n",
    " (u'support', 88),\n",
    " (u'source_ref', 86),\n",
    " (u'brewery', 85),\n",
    " (u'leaf_type', 85),\n",
    " (u'old_name', 83),\n",
    " (u'smoking', 83),\n",
    " (u'takeaway', 81),\n",
    " (u'shelter_type', 73)]"
   ]
  },
  {
   "cell_type": "markdown",
   "metadata": {},
   "source": [
    "#### Additional query:\n",
    "I wanted to see if there were certain users who went after finding breweries, and it appears there are!"
   ]
  },
  {
   "cell_type": "raw",
   "metadata": {},
   "source": [
    "beer_finders = \"\"\"select n.user, count(distinct n.id) from nodes_tags as nt\n",
    "        join nodes as n on n.id = nt.id\n",
    "        where nt.key = 'brewery'\n",
    "        group by n.user\n",
    "        order by count(n.id) desc;\"\"\""
   ]
  },
  {
   "cell_type": "markdown",
   "metadata": {},
   "source": [
    "[(u'ColoMapper', 70),  \n",
    " (u'chachafish', 10),  \n",
    " (u'Your Village Maps', 2),  \n",
    " (u'Spanholz', 1),  \n",
    " (u'mattchn', 1)]"
   ]
  },
  {
   "cell_type": "markdown",
   "metadata": {},
   "source": [
    "### Additional Ideas:\n",
    "\n",
    "My hunch was that certain areas of Denver would be more inclined to add data to OSM due to topography, culture, income, etc so I went ahead and split up the number of data points into the 4 different quadrants of the city to see if there was an even or uneven spread"
   ]
  },
  {
   "cell_type": "raw",
   "metadata": {},
   "source": [
    "QUERY = \"\"\"SELECT n.lat, n.lon from nodes as n\"\"\"\n",
    "q2 = \"\"\"select nt.value, count(*) from nodes_tags as nt\n",
    "        group by nt.value\n",
    "        order by count(*) desc\"\"\"\n",
    "\n",
    "hp = 39.75             # Meaning horizontal point of city\n",
    "vp = -105.010845       # Meaning vertical point of city\n",
    "\n",
    "q1 = 0 # different quadrants of city\n",
    "q2 = 0\n",
    "q3 = 0\n",
    "q4 = 0\n",
    "\n",
    "print len(rows)\n",
    "for row in rows:\n",
    "    try:\n",
    "        lat = float(row[0].strip())\n",
    "    except:\n",
    "        continue\n",
    "    try:\n",
    "        lon = float(row[1])\n",
    "    except:\n",
    "        continue\n",
    "    if lat > hp:\n",
    "        if lon < vp:\n",
    "            q1 += 1\n",
    "        else:\n",
    "            q2 += 1\n",
    "    elif lat < hp:\n",
    "        if lon < vp:\n",
    "            q4 += 1\n",
    "        else:\n",
    "            q3 += 1\n",
    "        \n",
    "print q1, q2, q3, q4"
   ]
  },
  {
   "cell_type": "raw",
   "metadata": {},
   "source": [
    "8757993\n",
    "3074419 1234075 2526140 1399067\n",
    "\n",
    "I am not surprised that Quadrant 1 has the most due to its very active downtown area and that Quadrant 2 does not have many due to its much lower population and greater greenspace"
   ]
  },
  {
   "cell_type": "markdown",
   "metadata": {},
   "source": [
    "### Conclusion:\n",
    "\n",
    "The data was cleaner than I expected coming from user generated input.  What took a little bit of time to contort was the string inputted lat and lons into usable integers for analysis.\n",
    "\n",
    "I would like to do further work concerning other areas of the state seeing as Colorado is such a high percentage of leisure users especially in the mountains.  Do these users take time to add data to OSM or do users tend to just do so when they are near their home areas?"
   ]
  }
 ],
 "metadata": {
  "anaconda-cloud": {},
  "kernelspec": {
   "display_name": "Python 2",
   "language": "python",
   "name": "python2"
  },
  "language_info": {
   "codemirror_mode": {
    "name": "ipython",
    "version": 2
   },
   "file_extension": ".py",
   "mimetype": "text/x-python",
   "name": "python",
   "nbconvert_exporter": "python",
   "pygments_lexer": "ipython2",
   "version": "2.7.13"
  }
 },
 "nbformat": 4,
 "nbformat_minor": 1
}
